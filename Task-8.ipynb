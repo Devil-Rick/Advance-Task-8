{
 "cells": [
  {
   "cell_type": "markdown",
   "id": "68847edf",
   "metadata": {},
   "source": [
    "# Binomial Distribution I\n",
    "\n",
    "\n",
    "### Task\n",
    "\n",
    "The ratio of boys to girls for babies born in Russia is `1.09 : 1` . \n",
    "If there is `1` child born per birth, what proportion of Russian families with exactly `6` children will have at least `3` boys?\n",
    "\n",
    "Write a program to compute the answer using the above parameters. Then print your result, rounded to a scale of  decimal places (i.e.,`1.234` format)."
   ]
  },
  {
   "cell_type": "code",
   "execution_count": 1,
   "id": "f00eed60",
   "metadata": {},
   "outputs": [
    {
     "name": "stdout",
     "output_type": "stream",
     "text": [
      "0.676\n"
     ]
    }
   ],
   "source": [
    "import math  \n",
    "\n",
    "def Bionomial(x,n,p):\n",
    "    return math.comb(n, x) * (p**x) * (1-p)**(n-x)\n",
    "\n",
    "n = 6\n",
    "p = 1.09/2.09\n",
    "print(round(sum([Bionomial(i , n , p) for i in range(3,7)]),3))"
   ]
  },
  {
   "cell_type": "markdown",
   "id": "4f05575e",
   "metadata": {},
   "source": [
    "# Binomial Distribution II\n",
    "\n",
    "\n",
    "### Task\n",
    "\n",
    "A manufacturer of metal pistons finds that, on average, `12%` of the pistons they manufacture are rejected because they are incorrectly sized. What is the probability that a batch of `10` pistons will contain:\n",
    "\n",
    "1. No more than `2` rejects?\n",
    "2. At least `2` rejects?"
   ]
  },
  {
   "cell_type": "code",
   "execution_count": 2,
   "id": "39164f93",
   "metadata": {},
   "outputs": [
    {
     "name": "stdout",
     "output_type": "stream",
     "text": [
      "0.891\n",
      "0.342\n"
     ]
    }
   ],
   "source": [
    "def Bionomial(x,n,p):\n",
    "    return math.comb(n, x) * (p**x) * (1-p)**(n-x)\n",
    "\n",
    "n = 10\n",
    "p = 12/100\n",
    "\n",
    "print(round(sum([Bionomial(i , n , p) for i in range(0,3)]),3))\n",
    "print(round(sum([Bionomial(i , n , p) for i in range(2,11)]),3))"
   ]
  },
  {
   "cell_type": "markdown",
   "id": "d57f2cee",
   "metadata": {},
   "source": [
    "# Normal Distribution I\n",
    "\n",
    "\n",
    "### Task\n",
    "\n",
    "In a certain plant, the time taken to assemble a car is a random variable, `X` , \n",
    "having a normal distribution with a mean of `20` hours and a standard deviation of `2` hours. \n",
    "What is the probability that a car can be assembled at this plant in:\n",
    "\n",
    "1. Less than `19.5` hours?\n",
    "2. Between `20` and `22` hours?"
   ]
  },
  {
   "cell_type": "code",
   "execution_count": 12,
   "id": "038aa743",
   "metadata": {},
   "outputs": [
    {
     "name": "stdout",
     "output_type": "stream",
     "text": [
      "0.401\n",
      "0.341\n"
     ]
    }
   ],
   "source": [
    "def Normal(mean, std, x):\n",
    "    return 0.5 + 0.5 * math.erf((x-mean)/(std* 2**0.5))\n",
    "\n",
    "mean , std = 20 , 2\n",
    "print(round(Normal(mean , std , 19.5) , 3))\n",
    "\n",
    "print(round((Normal(mean,std,22) - Normal(mean,std,20)) , 3))"
   ]
  },
  {
   "cell_type": "markdown",
   "id": "e3ac0322",
   "metadata": {},
   "source": [
    "# Normal Distribution II\n",
    "\n",
    "### Task\n",
    "\n",
    "The final grades for a Physics exam taken by a large group of students have a mean of $\\mu$ = `70` and a standard deviation of $\\sigma$ = `10` . If we can approximate the distribution of these grades by a normal distribution, what percentage of the students:\n",
    "\n",
    "1. Scored higher than `80` (i.e., have a `grade > 80` )?\n",
    "2. Passed the test (i.e., have a `grade >= 60`)?\n",
    "3. Failed the test (i.e., have a `grade < 60`)?\n",
    "\n",
    "Find and print the answer to each question on a new line, rounded to a scale of `2` decimal places."
   ]
  },
  {
   "cell_type": "code",
   "execution_count": 16,
   "id": "1ae67d3d",
   "metadata": {},
   "outputs": [
    {
     "name": "stdout",
     "output_type": "stream",
     "text": [
      "15.87\n",
      "84.13\n",
      "15.87\n"
     ]
    }
   ],
   "source": [
    "mean, std = 70 , 10\n",
    "mark1 = 80\n",
    "mark2 = 60\n",
    "\n",
    "def Normal(x, mu, sig):\n",
    "    return (1.0 + math.erf((x - mu) / (sig * math.sqrt(2.0)))) / 2.0\n",
    "\n",
    "print(round(100 - (Normal(mark1, mean, std) * 100), 2))\n",
    "\n",
    "print(round(100 - (Normal(mark2 , mean, std) * 100), 2))\n",
    "\n",
    "print(round(Normal(mark2,mean , std) * 100, 2))"
   ]
  },
  {
   "cell_type": "markdown",
   "id": "c63807ad",
   "metadata": {},
   "source": [
    "# The Central Limit Theorem I\n",
    "\n",
    "### Task\n",
    "A large elevator can transport a maximum of `9800` pounds. Suppose a load of cargo containing `49` boxes must be transported via the elevator. The box weight of this type of cargo follows a distribution with a mean of $\\mu$ = `205` pounds and a standard deviation of $\\sigma$ = `15` pounds. Based on this information, what is the probability that all `49` boxes can be safely loaded into the freight elevator and transported?"
   ]
  },
  {
   "cell_type": "code",
   "execution_count": 17,
   "id": "5bdfff8e",
   "metadata": {},
   "outputs": [
    {
     "name": "stdout",
     "output_type": "stream",
     "text": [
      "0.0098\n"
     ]
    }
   ],
   "source": [
    "x = 9800\n",
    "n = 49\n",
    "mean = 205\n",
    "std = 15\n",
    "\n",
    "m_sum = n * mean\n",
    "s_sum = math.sqrt(n) * std\n",
    "\n",
    "def Central(x, mu, sigma):\n",
    "    Z = (x - mu)/sigma\n",
    "    return 0.5*(1 + math.erf(Z/(math.sqrt(2))))\n",
    "\n",
    "print(round(Central(x, m_sum, s_sum), 4))"
   ]
  },
  {
   "cell_type": "markdown",
   "id": "3da78fd1",
   "metadata": {},
   "source": [
    "# The Central Limit Theorem II\n",
    "\n",
    "### Task\n",
    "The number of tickets purchased by each student for the University X vs. University Y football game follows a distribution that has a mean of $\\mu$ =`2.4` and a standard deviation of $\\sigma$ = `2.0` .\n",
    "\n",
    "A few hours before the game starts, `100` eager students line up to purchase last-minute tickets. If there are only `250` tickets left, what is the probability that all `100` students will be able to purchase tickets?\n"
   ]
  },
  {
   "cell_type": "code",
   "execution_count": 29,
   "id": "dbb9a879",
   "metadata": {},
   "outputs": [
    {
     "name": "stdout",
     "output_type": "stream",
     "text": [
      "0.6915\n"
     ]
    }
   ],
   "source": [
    "from math import erf\n",
    "max_num = 250\n",
    "n = 100\n",
    "mean = 2.4\n",
    "std = 2.0\n",
    "n_mean = n*mean\n",
    "n_std = std*(n**0.5)\n",
    "f = lambda x : 0.5*(1+math.erf((x-n_mean)/(n_std*(2**0.5))))\n",
    "pro = f(max_num)\n",
    "pro = round(pro, 4)\n",
    "print(pro)"
   ]
  },
  {
   "cell_type": "markdown",
   "id": "f376797d",
   "metadata": {},
   "source": [
    "# The Central Limit Theorem III\n",
    "\n",
    "\n",
    "### Task\n",
    "You have a sample of `100` values from a population with mean $\\mu$ = `500` and with standard deviation $\\sigma$ = `80` . Compute the interval that covers the middle `95%` of the distribution of the sample mean; in other words, compute `A` and `B` such that `P(A < x < B) = 0.95`. Use the value of `z = 1.96`. Note that  is the z-score.\n"
   ]
  },
  {
   "cell_type": "code",
   "execution_count": 18,
   "id": "c070edeb",
   "metadata": {},
   "outputs": [
    {
     "name": "stdout",
     "output_type": "stream",
     "text": [
      "484.32\n",
      "515.68\n"
     ]
    }
   ],
   "source": [
    "samples = 100\n",
    "mean = 500\n",
    "sd = 80\n",
    "interval = 0.95\n",
    "z = 1.96\n",
    "\n",
    "sd_sample = sd / (samples**0.5)\n",
    "print(round(mean - sd_sample*z,2))\n",
    "print(round(mean + sd_sample*z,2))"
   ]
  },
  {
   "cell_type": "markdown",
   "id": "d40a64ae",
   "metadata": {},
   "source": [
    "# Pearson Correlation Coefficient I\n",
    "\n",
    "### Task\n",
    "Given two n-element data sets, `X` and `Y`, calculate the value of the Pearson correlation coefficient."
   ]
  },
  {
   "cell_type": "code",
   "execution_count": 21,
   "id": "55da17d1",
   "metadata": {},
   "outputs": [
    {
     "name": "stdout",
     "output_type": "stream",
     "text": [
      "10\n",
      "10 9.8 8 7.8 7.7 7 6 5 4 2 \n",
      "200 44 32 24 22 17 15 12 8 4\n",
      "0.612\n"
     ]
    }
   ],
   "source": [
    "N = int(input())\n",
    "X = list(map(float,input().split()))\n",
    "Y = list(map(float,input().split()))\n",
    "\n",
    "mu_x = sum(X) / N\n",
    "mu_y = sum(Y) / N\n",
    "\n",
    "stdv_x = (sum([(i - mu_x)**2 for i in X]) / N)**0.5\n",
    "stdv_y = (sum([(i - mu_y)**2 for i in Y]) / N)**0.5\n",
    "\n",
    "\n",
    "covariance = sum([(X[i] - mu_x) * (Y[i] -mu_y) for i in range(N)])\n",
    "\n",
    "correlation_coefficient = covariance / (N * stdv_x * stdv_y)\n",
    "\n",
    "print(round(correlation_coefficient,3))"
   ]
  },
  {
   "cell_type": "markdown",
   "id": "265f0153",
   "metadata": {},
   "source": [
    "# Least Square Regression Line\n",
    "\n",
    "### Task\n",
    "A group of five students enrolls in Statistics immediately after taking a Math aptitude test. Each student's Math aptitude test score,`x`, and Statistics course grade,`y`, can be expressed as the following list of `(x,y` points:\n",
    "\n",
    "1. (95,85)\n",
    "2. (85,95)\n",
    "3. (80,70)\n",
    "4. (70,65)\n",
    "5. (60,70)\n",
    "\n",
    "If a student scored an `80` on the Math aptitude test, what grade would we expect them to achieve in Statistics? Determine the equation of the best-fit line using the least squares method, then compute and print the value of `y` when `x = 80` ."
   ]
  },
  {
   "cell_type": "code",
   "execution_count": 22,
   "id": "598ae6b3",
   "metadata": {},
   "outputs": [
    {
     "name": "stdout",
     "output_type": "stream",
     "text": [
      "95 85\n",
      "85 95\n",
      "80 70\n",
      "70 65\n",
      "60 70\n",
      "78.288\n"
     ]
    }
   ],
   "source": [
    "n = 5\n",
    "xy = [map(int, input().split()) for _ in range(n)]\n",
    "sx, sy, sx2, sxy = map(sum, zip(*[(x, y, x**2, x * y) for x, y in xy]))\n",
    "b = (n * sxy - sx * sy) / (n * sx2 - sx**2)\n",
    "a = (sy / n) - b * (sx / n)\n",
    "print('{:.3f}'.format(a + b * 80))"
   ]
  },
  {
   "cell_type": "markdown",
   "id": "a395733e",
   "metadata": {},
   "source": [
    "# Multiple Linear Regression\n",
    "\n",
    "### Task\n",
    "Andrea has a simple equation:\n",
    "                        \n",
    "$$Y = a + b_1\\cdot f_1 + b_1\\cdot f_2 + \\ldots + b_m\\cdot f_m $$\n",
    "\n",
    "for `(m + 1)` real constants $(f_1,f_2 ,f_3 ,\\ldots ,f_m )$. We can say that the value of `Y` depends on  features. Andrea studies this equation for `n` different feature sets $(f_1,f_2 ,f_3 ,\\ldots ,f_m )$ and records each respective value of `Y` . If she has `q` new feature sets, can you help Andrea find the value of `Y` for each of the sets?\n",
    "Note: You are not expected to account for bias and variance trade-offs."
   ]
  },
  {
   "cell_type": "code",
   "execution_count": 27,
   "id": "90bc6920",
   "metadata": {},
   "outputs": [
    {
     "name": "stdout",
     "output_type": "stream",
     "text": [
      "2 7\n",
      "0.18 0.89 109.85\n",
      "1.0 0.26 155.72\n",
      "0.92 0.11 137.66\n",
      "0.07 0.37 76.17\n",
      "0.85 0.16 139.75\n",
      "0.99 0.41 162.6\n",
      "0.87 0.47 151.77\n",
      "4\n",
      "0.49 0.18\n",
      "0.57 0.83\n",
      "0.56 0.64\n",
      "0.76 0.18\n",
      "105.21\n",
      "142.67\n",
      "132.94\n",
      "129.7\n"
     ]
    }
   ],
   "source": [
    "import numpy as np\n",
    "\n",
    "def solve(y, x, x_pred):\n",
    "    x_dash = x.T\n",
    "    X= x_dash.dot(x)\n",
    "    X_inv= np.linalg.inv(X)\n",
    "    X_final = X_inv.dot(x_dash)\n",
    "    B = X_final.dot(y)\n",
    "    y_pred = x_pred.dot(B)\n",
    "    return y_pred\n",
    "\n",
    "def MLR():\n",
    "    m, n = map(int, input().strip().split())\n",
    "    y = []; x = []; x_pred = []\n",
    "    for _ in range(n):\n",
    "        *features, y_val = map(float, input().strip().split())\n",
    "        x.append([1] + features)\n",
    "        y.append(y_val)\n",
    "\n",
    "    for _ in range(int(input())):\n",
    "        features = list(map(float, input().strip().split()))\n",
    "        x_pred.append([1] + features)\n",
    "\n",
    "    y = np.array(y)\n",
    "    x = np.array(x)\n",
    "    x_pred = np.array(x_pred)\n",
    "    answer = solve(y, x, x_pred)\n",
    "  \n",
    "    for num in answer:\n",
    "        print(round(num, 2))\n",
    "\n",
    "if __name__ == \"__main__\":\n",
    "    MLR()"
   ]
  },
  {
   "cell_type": "code",
   "execution_count": null,
   "id": "36e48aba",
   "metadata": {},
   "outputs": [],
   "source": []
  }
 ],
 "metadata": {
  "kernelspec": {
   "display_name": "Python 3 (ipykernel)",
   "language": "python",
   "name": "python3"
  },
  "language_info": {
   "codemirror_mode": {
    "name": "ipython",
    "version": 3
   },
   "file_extension": ".py",
   "mimetype": "text/x-python",
   "name": "python",
   "nbconvert_exporter": "python",
   "pygments_lexer": "ipython3",
   "version": "3.8.11"
  }
 },
 "nbformat": 4,
 "nbformat_minor": 5
}
